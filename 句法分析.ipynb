{
 "cells": [
  {
   "cell_type": "code",
   "execution_count": 3,
   "metadata": {},
   "outputs": [
    {
     "name": "stdout",
     "output_type": "stream",
     "text": [
      "他 骑 自行车 去 了 菜市场 。\n"
     ]
    }
   ],
   "source": [
    "######Jieba分词######\n",
    "import jieba\n",
    "string='他骑自行车去了菜市场。'\n",
    "seg_list=jieba.cut(string,cut_all=False,HMM=True)\n",
    "seg_str=' '.join(seg_list)\n",
    "print(seg_str)"
   ]
  },
  {
   "cell_type": "code",
   "execution_count": null,
   "metadata": {},
   "outputs": [],
   "source": [
    "######PCFG句法分析######\n",
    "from nltk.parse import stanford\n",
    "import os\n",
    "\n",
    "root='./stanford-parser-full-2018-10-17/'\n",
    "parser_path=root+'stanford-parser.jar'\n",
    "model_path=root+'stanford-parser-3.9.2-models.jar'\n",
    "\n",
    "##PCFG模型路径\n",
    "pcfg_path='edu/stanford/nlp/models/lexparser/chinesePCFG.ser.gz'\n",
    "\n",
    "parser=stanford.StanfordParser(path_to_jar=parser_path,path_to_models_jar=model_path,model_path=pcfg_path)\n",
    "\n",
    "sentence=parser.raw_parse(seg_str)\n",
    "for line in sentence:\n",
    "    print(line)\n",
    "    line.draw()"
   ]
  }
 ],
 "metadata": {
  "kernelspec": {
   "display_name": "Python 3",
   "language": "python",
   "name": "python3"
  },
  "language_info": {
   "codemirror_mode": {
    "name": "ipython",
    "version": 3
   },
   "file_extension": ".py",
   "mimetype": "text/x-python",
   "name": "python",
   "nbconvert_exporter": "python",
   "pygments_lexer": "ipython3",
   "version": "3.7.2"
  }
 },
 "nbformat": 4,
 "nbformat_minor": 2
}
