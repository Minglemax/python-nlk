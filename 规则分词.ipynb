{
 "cells": [
  {
   "cell_type": "code",
   "execution_count": 2,
   "metadata": {},
   "outputs": [
    {
     "name": "stdout",
     "output_type": "stream",
     "text": [
      "['研究生----', '命----', '的----', '起源----']\n"
     ]
    }
   ],
   "source": [
    "#########  MM法  ###########\n",
    "\n",
    "#定义正向最大匹配法类\n",
    "class MM(object):\n",
    "    def __init__(self):\n",
    "        self.window_size=3    #词典中最长字符串包含的字数\n",
    "    \n",
    "    def cut(self,text):\n",
    "        result=[]\n",
    "        index=0\n",
    "        text_length=len(text)\n",
    "        dic=['研究','研究生','生命','命','的','起源']   #词典\n",
    "        while text_length>index:     #只要还有字就进行匹配\n",
    "            for size in range(self.window_size+index,index,-1):  #生成可能长度\n",
    "                piece=text[index:size]\n",
    "                if piece in dic:\n",
    "                    index=size-1   #匹配成功将index设置为匹配成功的最后一个字的位置\n",
    "                    break\n",
    "            index=index+1   #开始下一个字符串的匹配\n",
    "            result.append(piece+'----')\n",
    "        print(result)\n",
    "\n",
    "if __name__=='__main__':\n",
    "    text='研究生命的起源'\n",
    "    tokenizer=MM()\n",
    "    tokenizer.cut(text)"
   ]
  },
  {
   "cell_type": "code",
   "execution_count": 4,
   "metadata": {},
   "outputs": [
    {
     "name": "stdout",
     "output_type": "stream",
     "text": [
      "['研究----', '生命----', '的----', '起源----']\n"
     ]
    }
   ],
   "source": [
    "#########  RMM法  ###########\n",
    "\n",
    "#定义逆向最大匹配法类\n",
    "class RMM(object):\n",
    "    def __init__(self):\n",
    "        self.window_size=3\n",
    "    \n",
    "    def cut(self,text):\n",
    "        result=[]\n",
    "        index=len(text)  #从文本末尾开始\n",
    "        dic=['研究','研究生','生命','命','的','起源'] \n",
    "        while index>0:\n",
    "            for size in range(index-self.window_size,index):\n",
    "                piece=text[size:index]  #找到最后几个字组成的字符串\n",
    "                if piece in dic:\n",
    "                    index=size+1      #将位置更新为匹配到的最后一个字的位置\n",
    "                    break\n",
    "            index=index-1   #开始新的位置\n",
    "            result.append(piece+'----')\n",
    "        result.reverse()  #由于从最后进行匹配，所以顺序是反的，需要颠倒过来\n",
    "        print(result)\n",
    "        \n",
    "if __name__=='__main__':\n",
    "    text='研究生命的起源'\n",
    "    tokenizer=RMM()\n",
    "    tokenizer.cut(text)\n",
    "            "
   ]
  },
  {
   "cell_type": "code",
   "execution_count": 13,
   "metadata": {},
   "outputs": [
    {
     "name": "stdout",
     "output_type": "stream",
     "text": [
      "['研究----', '生命----', '的----', '起源----']\n"
     ]
    }
   ],
   "source": [
    "#########  双向法  ###########\n",
    "\n",
    "#定义双向最大匹配法的类\n",
    "class BMM(object):\n",
    "    def __init__(self):\n",
    "        self.window_size=3\n",
    "        self.result_MM=[]\n",
    "        self.result_RMM=[]\n",
    "        self.num_MM=0\n",
    "        self.num_RMM=0\n",
    "    \n",
    "    #正向最大\n",
    "    def MM(self,text):\n",
    "        index=0\n",
    "        text_length=len(text)\n",
    "        dic=['研究','研究生','生命','命','的','起源']   #词典\n",
    "        while text_length>index:     #只要还有字就进行匹配\n",
    "            for size in range(self.window_size+index,index,-1):  #生成可能长度\n",
    "                piece=text[index:size]\n",
    "                if piece in dic:\n",
    "                    index=size-1   #匹配成功将index设置为匹配成功的最后一个字的位置\n",
    "                    break\n",
    "            index=index+1   #开始下一个字符串的匹配\n",
    "            self.result_MM.append(piece+'----')\n",
    "            if len(piece)==1:\n",
    "                self.num_MM+=1\n",
    "    \n",
    "    #逆向最大\n",
    "    def RMM(self,text):\n",
    "        index=len(text)  #从文本末尾开始\n",
    "        dic=['研究','研究生','生命','命','的','起源'] \n",
    "        while index>0:\n",
    "            for size in range(index-self.window_size,index):\n",
    "                piece=text[size:index]  #找到最后几个字组成的字符串\n",
    "                if piece in dic:\n",
    "                    index=size+1      #将位置更新为匹配到的最后一个字的位置\n",
    "                    break\n",
    "            index=index-1   #开始新的位置\n",
    "            self.result_RMM.append(piece+'----')\n",
    "            if len(piece)==1:\n",
    "                self.num_RMM+=1\n",
    "        self.result_RMM.reverse()  #由于从最后进行匹配，所以顺序是反的，需要颠倒过来\n",
    "    \n",
    "    def cut(self,text):\n",
    "        if len(self.result_MM)>len(self.result_RMM):\n",
    "            result=self.result_RMM\n",
    "        elif len(self.result_MM)<len(self.result_RMM):\n",
    "            result=self.result_MM\n",
    "        elif len(self.result_MM)==len(self.result_RMM):\n",
    "            if self.result_MM==self.result_RMM:\n",
    "                result=self.result_RMM\n",
    "            else:\n",
    "                if self.num_MM>self.num_RMM:\n",
    "                    result=self.result_RMM\n",
    "                else:\n",
    "                    result=self.result_MM\n",
    "        print(result)\n",
    "\n",
    "if __name__=='__main__':\n",
    "    text='研究生命的起源'\n",
    "    tokenizer=BMM()\n",
    "    tokenizer.MM(text)\n",
    "    tokenizer.RMM(text)\n",
    "    tokenizer.cut(text)"
   ]
  },
  {
   "cell_type": "code",
   "execution_count": null,
   "metadata": {},
   "outputs": [],
   "source": []
  }
 ],
 "metadata": {
  "kernelspec": {
   "display_name": "Python 3",
   "language": "python",
   "name": "python3"
  },
  "language_info": {
   "codemirror_mode": {
    "name": "ipython",
    "version": 3
   },
   "file_extension": ".py",
   "mimetype": "text/x-python",
   "name": "python",
   "nbconvert_exporter": "python",
   "pygments_lexer": "ipython3",
   "version": "3.7.2"
  }
 },
 "nbformat": 4,
 "nbformat_minor": 2
}
