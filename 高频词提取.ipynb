{
 "cells": [
  {
   "cell_type": "code",
   "execution_count": 47,
   "metadata": {},
   "outputs": [],
   "source": [
    "###数据读取###\n",
    "def get_content(path):\n",
    "    with open(path,'r',encoding='gbk',errors='ignore') as f:\n",
    "        content= ''\n",
    "        for l in f:\n",
    "            l=l.split()\n",
    "            content += str(l)\n",
    "        return content"
   ]
  },
  {
   "cell_type": "code",
   "execution_count": 48,
   "metadata": {},
   "outputs": [],
   "source": [
    "###定义高频词统计函数###\n",
    "def get_TF(words,topK=10):\n",
    "    tf_dic={}\n",
    "    for w in words:\n",
    "        tf_dic[w]=tf_dic.get(w,0)+1\n",
    "    return sorted(tf_dic.items(),key=lambda x:x[1],reverse=True)[:topK]"
   ]
  },
  {
   "cell_type": "code",
   "execution_count": 49,
   "metadata": {},
   "outputs": [],
   "source": [
    "###过滤停用词###\n",
    "def stop_words(path):\n",
    "    with open(path,'r',encoding='utf8',errors='ignore') as f:\n",
    "        return [l.strip() for l in f]"
   ]
  },
  {
   "cell_type": "code",
   "execution_count": 50,
   "metadata": {},
   "outputs": [],
   "source": [
    "###主函数###\n",
    "def main():\n",
    "    import glob\n",
    "    import random\n",
    "    import jieba\n",
    "    \n",
    "    files=glob.glob('./高频词/news/*.txt')\n",
    "    corpus=[get_content(x) for x in files]\n",
    "    \n",
    "    sample_inx=random.randint(0,len(corpus))\n",
    "    split_words=[x for x in jieba.cut(corpus[sample_inx]) if x not in stop_words('./高频词/stop_words.utf8')]\n",
    "    print('样本之一：'+corpus[sample_inx])\n",
    "    print('样本分词效果：'+'/'.join(split_words))\n",
    "    print('样本TopK（10）词：'+str(get_TF(split_words)))"
   ]
  },
  {
   "cell_type": "code",
   "execution_count": 51,
   "metadata": {},
   "outputs": [
    {
     "name": "stdout",
     "output_type": "stream",
     "text": [
      "样本之一：['【赛迪网讯】5月3日消息，据市场研究公司M:Metrics星期二发表的研究报告称，曾一度被认为是运营商新的主要收入来源的移动游戏（如在手机等设备上玩游戏）正在出现停滞不前的局面。']['据TechWeb.com网站报道，这篇研究报告对美国、英国和德国等国家购买移动游戏的方式进行了调查。结果发现手机用户下载游戏的人数比较少，而且在过去一段时间里移动游戏用户的数量一直没有增长。调查显示，今年3月份美国下载游戏的手机用户仅占全部手机用户的2.7%，德国为2.5%，英国为4.2%。']['这篇研究报告发现，在下载移动游戏的用户中，有30%是第一次下载游戏的手机用户。然而，这些用户中只有20%至30%的用户打算下载更多的游戏。']['M:Metrics公司首席产品工程师和高级分析师Seamus', 'McAteer在声明中说，这些数据显示，运营商必须要做更好的工作把那些玩移动游戏的人转变为下载移动游戏的玩家。现在并不缺乏运营商在门户网站上推出的新游戏。很多运营商都推出了创新的和具有很高价值的游戏，但是，这些游戏并没有引起消费者的共鸣。']['此前，另一家市场研究公司NPD', 'Group发表一篇研究报告称，只有20%的美国手机用户用拍照手机拍摄和发送照片。同移动游戏一样，运营商也希望通过蜂窝网络发送照片会日益流行，从而增加运营商的收入。']['McAteer表示，用户不愿意下载移动游戏的主要原因包括价格高、缺少兴趣和可选择的内容不多等。数据显示，40%的德国用户表示他们不购买新的游戏的原因是价格太贵。持有同样观点的英国手机用户为23.75%，美国的用户为21%。']['这篇研究报告发现，男性和女性同样喜欢下载游戏。喜欢下载游戏的男性用户的年龄段为18至34岁。这一年龄段的下载游戏的手机用户占美国游戏下载用户的35%，占英国游戏下载用户的30%，占德国游戏下载用户的33.7%。']\n",
      "样本分词效果：赛迪网/讯/月/日/消息/市场/研究/公司/M/Metrics/星期二/发表/研究/报告/称/曾一度/认为/运营商/新/主要/收入/来源/移动游戏/手机/设备/玩游戏/正在/出现/停滞不前/局面/TechWeb/com/网站/报道/这篇/研究/报告/美国/英国/德国/国家/购买/移动游戏/方式/进行/调查/发现/手机用户/下载/游戏/人数/比较/少/过去/一段时间/里/移动游戏/用户/数量/一直/没有/增长/调查/显示/今年/月份/美国/下载/游戏/手机用户/仅/占/手机用户/2.7%/德国/2.5%/英国/4.2%/这篇/研究/报告/发现/下载/移动游戏/用户/中/30%/第一次/下载/游戏/手机用户/用户/中/20%/30%/用户/打算/下载/更/游戏/M/Metrics/公司/首席/产品/工程师/高级/分析师/Seamus/ /McAteer/声明/中说/数据/显示/运营商/必须/做/更好/工作/玩/移动游戏/转变/下载/移动游戏/玩家/现在/缺乏/运营商/门户网站/推出/新/游戏/很多/运营商/推出/创新/具有/高/价值/游戏/游戏/没有/引起/消费者/共鸣/此前/另一家/市场/研究/公司/NPD/ /Group/发表/一篇/研究/报告/称/20%/美国/手机用户/拍照/手机/拍摄/发送/照片/移动游戏/运营商/希望/蜂窝/网络/发送/照片/会/日益/流行/增加/运营商/收入/McAteer/表示/用户/愿意/下载/移动游戏/主要/原因/包括/价格/高/缺少/兴趣/选择/内容/不多/数据/显示/40%/德国/用户/表示/购买/新/游戏/原因/价格/太贵/持有/同样/观点/英国/手机用户/23.75%/美国/用户/21%/这篇/研究/报告/发现/男性/女性/同样/喜欢/下载/游戏/喜欢/下载/游戏/男性/用户/年龄段/18/34/岁/这一/年龄段/下载/游戏/手机用户/占/美国/游戏/下载/用户/35%/占/英国/游戏/下载/用户/30%/占/德国/游戏/下载/用户/33.7%\n",
      "样本TopK（10）词：[('游戏', 14), ('下载', 13), ('用户', 11), ('移动游戏', 8), ('研究', 7), ('手机用户', 7), ('运营商', 6), ('报告', 5), ('美国', 5), ('英国', 4)]\n"
     ]
    }
   ],
   "source": [
    "main()"
   ]
  },
  {
   "cell_type": "code",
   "execution_count": null,
   "metadata": {},
   "outputs": [],
   "source": []
  }
 ],
 "metadata": {
  "kernelspec": {
   "display_name": "Python 3",
   "language": "python",
   "name": "python3"
  },
  "language_info": {
   "codemirror_mode": {
    "name": "ipython",
    "version": 3
   },
   "file_extension": ".py",
   "mimetype": "text/x-python",
   "name": "python",
   "nbconvert_exporter": "python",
   "pygments_lexer": "ipython3",
   "version": "3.7.2"
  }
 },
 "nbformat": 4,
 "nbformat_minor": 2
}
